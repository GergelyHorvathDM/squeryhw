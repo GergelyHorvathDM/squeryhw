{
 "cells": [
  {
   "cell_type": "markdown",
   "metadata": {},
   "source": [
    "# Observations\n",
    "\n",
    "- No missing values (good)\n",
    "- There are features with slight colleration w.r.t. the Attrition (they are also explainable)\n",
    "- There are three features immediately to be dropped because of 1 distinct value\n",
    "- We are left with 19 categorical and 13 numerical features\n",
    "- ID type of feature is also excluded (numerical features down to 12)\n",
    "- Number of numerical features gone up to 23, nominals down to 7, because of instructions"
   ]
  },
  {
   "cell_type": "code",
   "execution_count": 47,
   "metadata": {},
   "outputs": [],
   "source": [
    "import pandas as pd\n",
    "import numpy as np\n",
    "\n",
    "from sklearn.preprocessing import LabelEncoder, MinMaxScaler\n",
    "from sklearn.decomposition import PCA\n",
    "from sklearn.compose import ColumnTransformer\n",
    "from imblearn.pipeline import Pipeline as ImbPipeline\n",
    "from imblearn.under_sampling import RandomUnderSampler\n",
    "\n",
    "from sklearn.pipeline import Pipeline\n",
    "from sklearn.neighbors import KNeighborsClassifier as KNC\n",
    "from sklearn.tree import DecisionTreeClassifier\n",
    "from sklearn.svm import SVC\n",
    "from sklearn.linear_model import LogisticRegression\n",
    "from sklearn.ensemble import GradientBoostingClassifier as GBC\n",
    "from xgboost import XGBClassifier\n",
    "from sklearn.ensemble import RandomForestClassifier as RFC\n",
    "from xgboost import XGBRFClassifier\n",
    "from sklearn.ensemble import AdaBoostClassifier\n",
    "from sklearn.neural_network import MLPClassifier\n",
    "\n",
    "import sweetviz as sv\n",
    "\n",
    "from utils.evaluation import *\n",
    "from utils.dataprep import *"
   ]
  },
  {
   "cell_type": "code",
   "execution_count": 54,
   "metadata": {},
   "outputs": [
    {
     "name": "stdout",
     "output_type": "stream",
     "text": [
      "Accuracy score: 87.14285714285715 +/- 1.8617594807352393\n",
      "Recall score: 33.80434782608695 +/- 13.670323945458904\n",
      "Precision score: 73.72739541160594 +/- 11.562727743534257\n",
      "F1 score: 44.3336622537789 +/- 13.12109296645759\n",
      "Accuracy score: 87.34693877551021 +/- 1.557214032960491\n",
      "Recall score: 33.87681159420289 +/- 9.841809596363106\n",
      "Precision score: 74.05982905982907 +/- 8.483528872768533\n",
      "F1 score: 45.552949537469665 +/- 10.092157138693283\n",
      "Accuracy score: 64.76190476190477 +/- 2.5957529290257013\n",
      "Recall score: 66.26811594202898 +/- 8.781580271733164\n",
      "Precision score: 26.395277544711565 +/- 3.0313099710984956\n",
      "F1 score: 37.703465953516094 +/- 4.247354884182273\n",
      "Accuracy score: 87.34693877551021 +/- 1.557214032960491\n",
      "Recall score: 33.87681159420289 +/- 9.841809596363106\n",
      "Precision score: 74.05982905982907 +/- 8.483528872768533\n",
      "F1 score: 45.552949537469665 +/- 10.092157138693283\n",
      "Accuracy score: 87.07482993197277 +/- 1.326094468681493\n",
      "Recall score: 33.42391304347826 +/- 8.836142418127853\n",
      "Precision score: 71.7985347985348 +/- 8.380764265672322\n",
      "F1 score: 44.79778682150082 +/- 9.004253964341814\n",
      "Accuracy score: 72.78911564625851 +/- 2.316923315092028\n",
      "Recall score: 65.79710144927537 +/- 6.685150808759202\n",
      "Precision score: 32.97561394818052 +/- 2.572433875427693\n",
      "F1 score: 43.791763155324475 +/- 2.8365283616735333\n"
     ]
    },
    {
     "data": {
      "text/plain": [
       "({'accuracy': 72.78911564625851,\n",
       "  'recall': 65.79710144927537,\n",
       "  'precision': 32.97561394818052,\n",
       "  'f1': 43.791763155324475},\n",
       " {'accuracy': 2.316923315092028,\n",
       "  'recall': 6.685150808759202,\n",
       "  'precision': 2.572433875427693,\n",
       "  'f1': 2.8365283616735333})"
      ]
     },
     "execution_count": 54,
     "metadata": {},
     "output_type": "execute_result"
    }
   ],
   "source": [
    "df = pd.read_csv(\"data/use_case_employee-attrition.csv\")\n",
    "df = df.drop([\"EmployeeCount\", \"Over18\", \"StandardHours\", \"EmployeeNumber\"], axis=1)\n",
    "\n",
    "nominals = [\"BusinessTravel\", \"Department\", \"EducationField\", \"Gender\", \"JobRole\", \"MaritalStatus\", \"OverTime\"]\n",
    "numericals = [\"Age\", \"DailyRate\", \"DistanceFromHome\", \"Education\", \"EnvironmentSatisfaction\", \"HourlyRate\", \"JobInvolvement\", \"JobLevel\", \"JobSatisfaction\", \"MonthlyIncome\", \"MonthlyRate\", \"NumCompaniesWorked\",\n",
    "              \"PercentSalaryHike\", \"PerformanceRating\", \"RelationshipSatisfaction\", \"StockOptionLevel\", \"TotalWorkingYears\", \"TrainingTimesLastYear\", \"WorkLifeBalance\", \"YearsAtCompany\", \"YearsInCurrentRole\", \n",
    "              \"YearsSinceLastPromotion\", \"YearsWithCurrManager\"]\n",
    "\n",
    "df_t = onehot_columns(df, nominals)\n",
    "df_n = merge_onehotted(df, df_t, nominals)\n",
    "\n",
    "X = df_n.drop(\"Attrition\", axis=1)\n",
    "y = df_n[\"Attrition\"]\n",
    "y = LabelEncoder().fit_transform(y)\n",
    "\n",
    "scaler = MinMaxScaler()\n",
    "\n",
    "pca = PCA(n_components=15)\n",
    "resampler = RandomUnderSampler(random_state=42)\n",
    "model = GBC(random_state=42)\n",
    "\n",
    "column_transformer = ColumnTransformer(\n",
    "    transformers=[\n",
    "        (\"pca\", pca, df_t.columns),\n",
    "        (\"passthrough\", \"passthrough\", numericals)\n",
    "    ])\n",
    "\n",
    "pipeline = Pipeline(steps=[(\"column_transformer\", column_transformer), (\"classifier\", model)])\n",
    "pipeline_s = Pipeline(steps=[(\"column_transformer\", column_transformer), (\"scaler\", scaler), (\"classifier\", model)])\n",
    "\n",
    "steps = [\n",
    "    (\"undersample\", resampler),\n",
    "    (\"pca\", pca),\n",
    "    (\"classifier\", model)\n",
    "]\n",
    "\n",
    "ipipeline = ImbPipeline(steps=steps)\n",
    "\n",
    "steps = [\n",
    "    (\"undersample\", resampler),\n",
    "    (\"scaler\", scaler),\n",
    "    (\"pca\", pca),\n",
    "    (\"classifier\", model)\n",
    "]\n",
    "\n",
    "ipipeline_s = ImbPipeline(steps=steps)\n",
    "\n",
    "steps = [\n",
    "    (\"undersample\", resampler),\n",
    "    (\"scaler\", scaler),\n",
    "    (\"pca\", pca),\n",
    "    (\"feature_selection\", rfe),\n",
    "    (\"classifier\", model)\n",
    "]\n",
    "\n",
    "ipipeline_s_f = ImbPipeline(steps=steps)\n",
    "\n",
    "compute_acc_rec_prec_f1_with_cv(model, X, y, cv_n=10)\n",
    "compute_acc_rec_prec_f1_with_cv(pipeline, X, y, cv_n=10)\n",
    "compute_acc_rec_prec_f1_with_cv(ipipeline, X, y, cv_n=10)\n",
    "compute_acc_rec_prec_f1_with_cv(pipeline_s, X, y, cv_n=10)\n",
    "compute_acc_rec_prec_f1_with_cv(ipipeline_s, X, y, cv_n=10)"
   ]
  },
  {
   "cell_type": "code",
   "execution_count": 3,
   "metadata": {},
   "outputs": [
    {
     "data": {
      "application/vnd.jupyter.widget-view+json": {
       "model_id": "d84968c74d424961bfafa959b63935ae",
       "version_major": 2,
       "version_minor": 0
      },
      "text/plain": [
       "                                             |          | [  0%]   00:00 -> (? left)"
      ]
     },
     "metadata": {},
     "output_type": "display_data"
    },
    {
     "name": "stdout",
     "output_type": "stream",
     "text": [
      "Report report.html was generated.\n"
     ]
    }
   ],
   "source": [
    "report = sv.analyze(df)\n",
    "report.show_html(\"report.html\", open_browser=False)"
   ]
  }
 ],
 "metadata": {
  "kernelspec": {
   "display_name": "sq",
   "language": "python",
   "name": "python3"
  },
  "language_info": {
   "codemirror_mode": {
    "name": "ipython",
    "version": 3
   },
   "file_extension": ".py",
   "mimetype": "text/x-python",
   "name": "python",
   "nbconvert_exporter": "python",
   "pygments_lexer": "ipython3",
   "version": "3.11.9"
  }
 },
 "nbformat": 4,
 "nbformat_minor": 2
}

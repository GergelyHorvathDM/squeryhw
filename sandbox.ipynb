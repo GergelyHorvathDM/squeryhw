{
 "cells": [
  {
   "cell_type": "code",
   "execution_count": 1,
   "metadata": {},
   "outputs": [],
   "source": [
    "import pandas as pd\n",
    "import numpy as np\n",
    "\n",
    "from sklearn.preprocessing import LabelEncoder, MinMaxScaler\n",
    "from sklearn.decomposition import PCA\n",
    "from sklearn.compose import ColumnTransformer\n",
    "from imblearn.pipeline import Pipeline as ImbPipeline\n",
    "from imblearn.under_sampling import RandomUnderSampler\n",
    "\n",
    "from sklearn.pipeline import Pipeline\n",
    "from sklearn.neighbors import KNeighborsClassifier as KNC\n",
    "from sklearn.tree import DecisionTreeClassifier as DTC\n",
    "from sklearn.tree import ExtraTreeClassifier as ETC\n",
    "from sklearn.svm import SVC\n",
    "from sklearn.linear_model import LogisticRegression as LRC\n",
    "from sklearn.ensemble import GradientBoostingClassifier as GBC\n",
    "from xgboost import XGBClassifier\n",
    "from sklearn.ensemble import RandomForestClassifier as RFC\n",
    "from xgboost import XGBRFClassifier\n",
    "from sklearn.ensemble import AdaBoostClassifier as ABC\n",
    "from sklearn.neural_network import MLPClassifier as MLP\n",
    "\n",
    "import sweetviz as sv\n",
    "\n",
    "from utils.evaluation import *\n",
    "from utils.dataprep import *"
   ]
  },
  {
   "cell_type": "code",
   "execution_count": 5,
   "metadata": {},
   "outputs": [
    {
     "name": "stdout",
     "output_type": "stream",
     "text": [
      "Model: \n",
      "Accuracy score: 83.87755102040816 +/- 0.31173984319427517\n",
      "Recall score: 0.0 +/- 0.0\n",
      "Precision score: 0.0 +/- 0.0\n"
     ]
    },
    {
     "name": "stderr",
     "output_type": "stream",
     "text": [
      "c:\\Users\\Gergo\\anaconda3\\envs\\sq\\Lib\\site-packages\\sklearn\\metrics\\_classification.py:1509: UndefinedMetricWarning: Precision is ill-defined and being set to 0.0 due to no predicted samples. Use `zero_division` parameter to control this behavior.\n",
      "  _warn_prf(average, modifier, f\"{metric.capitalize()} is\", len(result))\n",
      "c:\\Users\\Gergo\\anaconda3\\envs\\sq\\Lib\\site-packages\\sklearn\\metrics\\_classification.py:1509: UndefinedMetricWarning: Precision is ill-defined and being set to 0.0 due to no predicted samples. Use `zero_division` parameter to control this behavior.\n",
      "  _warn_prf(average, modifier, f\"{metric.capitalize()} is\", len(result))\n",
      "c:\\Users\\Gergo\\anaconda3\\envs\\sq\\Lib\\site-packages\\sklearn\\metrics\\_classification.py:1509: UndefinedMetricWarning: Precision is ill-defined and being set to 0.0 due to no predicted samples. Use `zero_division` parameter to control this behavior.\n",
      "  _warn_prf(average, modifier, f\"{metric.capitalize()} is\", len(result))\n",
      "c:\\Users\\Gergo\\anaconda3\\envs\\sq\\Lib\\site-packages\\sklearn\\metrics\\_classification.py:1509: UndefinedMetricWarning: Precision is ill-defined and being set to 0.0 due to no predicted samples. Use `zero_division` parameter to control this behavior.\n",
      "  _warn_prf(average, modifier, f\"{metric.capitalize()} is\", len(result))\n",
      "c:\\Users\\Gergo\\anaconda3\\envs\\sq\\Lib\\site-packages\\sklearn\\metrics\\_classification.py:1509: UndefinedMetricWarning: Precision is ill-defined and being set to 0.0 due to no predicted samples. Use `zero_division` parameter to control this behavior.\n",
      "  _warn_prf(average, modifier, f\"{metric.capitalize()} is\", len(result))\n",
      "c:\\Users\\Gergo\\anaconda3\\envs\\sq\\Lib\\site-packages\\sklearn\\metrics\\_classification.py:1509: UndefinedMetricWarning: Precision is ill-defined and being set to 0.0 due to no predicted samples. Use `zero_division` parameter to control this behavior.\n",
      "  _warn_prf(average, modifier, f\"{metric.capitalize()} is\", len(result))\n",
      "c:\\Users\\Gergo\\anaconda3\\envs\\sq\\Lib\\site-packages\\sklearn\\metrics\\_classification.py:1509: UndefinedMetricWarning: Precision is ill-defined and being set to 0.0 due to no predicted samples. Use `zero_division` parameter to control this behavior.\n",
      "  _warn_prf(average, modifier, f\"{metric.capitalize()} is\", len(result))\n",
      "c:\\Users\\Gergo\\anaconda3\\envs\\sq\\Lib\\site-packages\\sklearn\\metrics\\_classification.py:1509: UndefinedMetricWarning: Precision is ill-defined and being set to 0.0 due to no predicted samples. Use `zero_division` parameter to control this behavior.\n",
      "  _warn_prf(average, modifier, f\"{metric.capitalize()} is\", len(result))\n",
      "c:\\Users\\Gergo\\anaconda3\\envs\\sq\\Lib\\site-packages\\sklearn\\metrics\\_classification.py:1509: UndefinedMetricWarning: Precision is ill-defined and being set to 0.0 due to no predicted samples. Use `zero_division` parameter to control this behavior.\n",
      "  _warn_prf(average, modifier, f\"{metric.capitalize()} is\", len(result))\n",
      "c:\\Users\\Gergo\\anaconda3\\envs\\sq\\Lib\\site-packages\\sklearn\\metrics\\_classification.py:1509: UndefinedMetricWarning: Precision is ill-defined and being set to 0.0 due to no predicted samples. Use `zero_division` parameter to control this behavior.\n",
      "  _warn_prf(average, modifier, f\"{metric.capitalize()} is\", len(result))\n"
     ]
    },
    {
     "name": "stdout",
     "output_type": "stream",
     "text": [
      "F1 score: 0.0 +/- 0.0\n",
      "Model with PCA:\n",
      "Accuracy score: 83.87755102040816 +/- 0.31173984319427517\n",
      "Recall score: 0.0 +/- 0.0\n"
     ]
    },
    {
     "name": "stderr",
     "output_type": "stream",
     "text": [
      "c:\\Users\\Gergo\\anaconda3\\envs\\sq\\Lib\\site-packages\\sklearn\\metrics\\_classification.py:1509: UndefinedMetricWarning: Precision is ill-defined and being set to 0.0 due to no predicted samples. Use `zero_division` parameter to control this behavior.\n",
      "  _warn_prf(average, modifier, f\"{metric.capitalize()} is\", len(result))\n",
      "c:\\Users\\Gergo\\anaconda3\\envs\\sq\\Lib\\site-packages\\sklearn\\metrics\\_classification.py:1509: UndefinedMetricWarning: Precision is ill-defined and being set to 0.0 due to no predicted samples. Use `zero_division` parameter to control this behavior.\n",
      "  _warn_prf(average, modifier, f\"{metric.capitalize()} is\", len(result))\n",
      "c:\\Users\\Gergo\\anaconda3\\envs\\sq\\Lib\\site-packages\\sklearn\\metrics\\_classification.py:1509: UndefinedMetricWarning: Precision is ill-defined and being set to 0.0 due to no predicted samples. Use `zero_division` parameter to control this behavior.\n",
      "  _warn_prf(average, modifier, f\"{metric.capitalize()} is\", len(result))\n",
      "c:\\Users\\Gergo\\anaconda3\\envs\\sq\\Lib\\site-packages\\sklearn\\metrics\\_classification.py:1509: UndefinedMetricWarning: Precision is ill-defined and being set to 0.0 due to no predicted samples. Use `zero_division` parameter to control this behavior.\n",
      "  _warn_prf(average, modifier, f\"{metric.capitalize()} is\", len(result))\n",
      "c:\\Users\\Gergo\\anaconda3\\envs\\sq\\Lib\\site-packages\\sklearn\\metrics\\_classification.py:1509: UndefinedMetricWarning: Precision is ill-defined and being set to 0.0 due to no predicted samples. Use `zero_division` parameter to control this behavior.\n",
      "  _warn_prf(average, modifier, f\"{metric.capitalize()} is\", len(result))\n",
      "c:\\Users\\Gergo\\anaconda3\\envs\\sq\\Lib\\site-packages\\sklearn\\metrics\\_classification.py:1509: UndefinedMetricWarning: Precision is ill-defined and being set to 0.0 due to no predicted samples. Use `zero_division` parameter to control this behavior.\n",
      "  _warn_prf(average, modifier, f\"{metric.capitalize()} is\", len(result))\n",
      "c:\\Users\\Gergo\\anaconda3\\envs\\sq\\Lib\\site-packages\\sklearn\\metrics\\_classification.py:1509: UndefinedMetricWarning: Precision is ill-defined and being set to 0.0 due to no predicted samples. Use `zero_division` parameter to control this behavior.\n",
      "  _warn_prf(average, modifier, f\"{metric.capitalize()} is\", len(result))\n",
      "c:\\Users\\Gergo\\anaconda3\\envs\\sq\\Lib\\site-packages\\sklearn\\metrics\\_classification.py:1509: UndefinedMetricWarning: Precision is ill-defined and being set to 0.0 due to no predicted samples. Use `zero_division` parameter to control this behavior.\n",
      "  _warn_prf(average, modifier, f\"{metric.capitalize()} is\", len(result))\n",
      "c:\\Users\\Gergo\\anaconda3\\envs\\sq\\Lib\\site-packages\\sklearn\\metrics\\_classification.py:1509: UndefinedMetricWarning: Precision is ill-defined and being set to 0.0 due to no predicted samples. Use `zero_division` parameter to control this behavior.\n",
      "  _warn_prf(average, modifier, f\"{metric.capitalize()} is\", len(result))\n",
      "c:\\Users\\Gergo\\anaconda3\\envs\\sq\\Lib\\site-packages\\sklearn\\metrics\\_classification.py:1509: UndefinedMetricWarning: Precision is ill-defined and being set to 0.0 due to no predicted samples. Use `zero_division` parameter to control this behavior.\n",
      "  _warn_prf(average, modifier, f\"{metric.capitalize()} is\", len(result))\n"
     ]
    },
    {
     "name": "stdout",
     "output_type": "stream",
     "text": [
      "Precision score: 0.0 +/- 0.0\n",
      "F1 score: 0.0 +/- 0.0\n",
      "Model with PCA and undersampling:\n",
      "Accuracy score: 53.80952380952382 +/- 3.0943035144337836\n",
      "Recall score: 65.76086956521739 +/- 7.85196004973015\n",
      "Precision score: 20.69542170481229 +/- 2.145013460370438\n",
      "F1 score: 31.446456111064634 +/- 3.2045042552683487\n",
      "Model with PCA and scaling:\n",
      "Accuracy score: 86.87074829931973 +/- 1.0112971936951376\n",
      "Recall score: 21.15942028985507 +/- 7.267089961830495\n",
      "Precision score: 91.71428571428572 +/- 8.518886580500327\n",
      "F1 score: 33.52096360772668 +/- 9.325217040701375\n",
      "Model with PCA, scaling and undersampling:\n",
      "Accuracy score: 75.85034013605441 +/- 3.0913109571433357\n",
      "Recall score: 69.18478260869566 +/- 5.71181029382088\n",
      "Precision score: 37.08081968809462 +/- 4.590086106350273\n",
      "F1 score: 48.15925181440757 +/- 4.674509643317559\n"
     ]
    },
    {
     "data": {
      "text/plain": [
       "({'accuracy': 75.85034013605441,\n",
       "  'recall': 69.18478260869566,\n",
       "  'precision': 37.08081968809462,\n",
       "  'f1': 48.15925181440757},\n",
       " {'accuracy': 3.0913109571433357,\n",
       "  'recall': 5.71181029382088,\n",
       "  'precision': 4.590086106350273,\n",
       "  'f1': 4.674509643317559})"
      ]
     },
     "execution_count": 5,
     "metadata": {},
     "output_type": "execute_result"
    }
   ],
   "source": [
    "df = pd.read_csv(\"data/use_case_employee-attrition.csv\")\n",
    "df = df.drop([\"EmployeeCount\", \"Over18\", \"StandardHours\", \"EmployeeNumber\"], axis=1)\n",
    "\n",
    "nominals = [\"BusinessTravel\", \"Department\", \"EducationField\", \"Gender\", \"JobRole\", \"MaritalStatus\", \"OverTime\"]\n",
    "numericals = [\"Age\", \"DailyRate\", \"DistanceFromHome\", \"Education\", \"EnvironmentSatisfaction\", \"HourlyRate\", \"JobInvolvement\", \"JobLevel\", \"JobSatisfaction\", \"MonthlyIncome\", \"MonthlyRate\", \"NumCompaniesWorked\",\n",
    "              \"PercentSalaryHike\", \"PerformanceRating\", \"RelationshipSatisfaction\", \"StockOptionLevel\", \"TotalWorkingYears\", \"TrainingTimesLastYear\", \"WorkLifeBalance\", \"YearsAtCompany\", \"YearsInCurrentRole\", \n",
    "              \"YearsSinceLastPromotion\", \"YearsWithCurrManager\"]\n",
    "\n",
    "df_t = onehot_columns(df, nominals)\n",
    "df_n = merge_onehotted(df, df_t, nominals)\n",
    "\n",
    "X = df_n.drop(\"Attrition\", axis=1)\n",
    "y = df_n[\"Attrition\"]\n",
    "y = LabelEncoder().fit_transform(y)\n",
    "\n",
    "scaler = MinMaxScaler()\n",
    "\n",
    "pca = PCA(n_components=15)\n",
    "resampler = RandomUnderSampler(random_state=42)\n",
    "model = SVC(random_state=42, C=0.9)\n",
    "\n",
    "column_transformer = ColumnTransformer(\n",
    "    transformers=[\n",
    "        (\"pca\", pca, df_t.columns),\n",
    "        (\"passthrough\", \"passthrough\", numericals)\n",
    "    ])\n",
    "\n",
    "pipeline = Pipeline(steps=[(\"column_transformer\", column_transformer), (\"classifier\", model)])\n",
    "pipeline_s = Pipeline(steps=[(\"column_transformer\", column_transformer), (\"scaler\", scaler), (\"classifier\", model)])\n",
    "\n",
    "steps = [\n",
    "    (\"undersample\", resampler),\n",
    "    (\"pca\", pca),\n",
    "    (\"classifier\", model)\n",
    "]\n",
    "\n",
    "ipipeline = ImbPipeline(steps=steps)\n",
    "\n",
    "steps = [\n",
    "    (\"undersample\", resampler),\n",
    "    (\"scaler\", scaler),\n",
    "    (\"pca\", pca),\n",
    "    (\"classifier\", model)\n",
    "]\n",
    "\n",
    "ipipeline_s = ImbPipeline(steps=steps)\n",
    "\n",
    "steps = [\n",
    "    (\"undersample\", resampler),\n",
    "    (\"scaler\", scaler),\n",
    "    (\"pca\", pca),\n",
    "    (\"classifier\", model)\n",
    "]\n",
    "\n",
    "ipipeline_s_f = ImbPipeline(steps=steps)\n",
    "\n",
    "print(\"Model: \")\n",
    "compute_acc_rec_prec_f1_with_cv(model, X, y, cv_n=10)\n",
    "print(\"Model with PCA:\")\n",
    "compute_acc_rec_prec_f1_with_cv(pipeline, X, y, cv_n=10)\n",
    "print(\"Model with PCA and undersampling:\")\n",
    "compute_acc_rec_prec_f1_with_cv(ipipeline, X, y, cv_n=10)\n",
    "print(\"Model with PCA and scaling:\")\n",
    "compute_acc_rec_prec_f1_with_cv(pipeline_s, X, y, cv_n=10)\n",
    "print(\"Model with PCA, scaling and undersampling:\")\n",
    "compute_acc_rec_prec_f1_with_cv(ipipeline_s, X, y, cv_n=10)"
   ]
  },
  {
   "cell_type": "code",
   "execution_count": 3,
   "metadata": {},
   "outputs": [
    {
     "data": {
      "application/vnd.jupyter.widget-view+json": {
       "model_id": "d84968c74d424961bfafa959b63935ae",
       "version_major": 2,
       "version_minor": 0
      },
      "text/plain": [
       "                                             |          | [  0%]   00:00 -> (? left)"
      ]
     },
     "metadata": {},
     "output_type": "display_data"
    },
    {
     "name": "stdout",
     "output_type": "stream",
     "text": [
      "Report report.html was generated.\n"
     ]
    }
   ],
   "source": [
    "report = sv.analyze(df)\n",
    "report.show_html(\"reports/report.html\", open_browser=False)"
   ]
  }
 ],
 "metadata": {
  "kernelspec": {
   "display_name": "sq",
   "language": "python",
   "name": "python3"
  },
  "language_info": {
   "codemirror_mode": {
    "name": "ipython",
    "version": 3
   },
   "file_extension": ".py",
   "mimetype": "text/x-python",
   "name": "python",
   "nbconvert_exporter": "python",
   "pygments_lexer": "ipython3",
   "version": "3.11.9"
  }
 },
 "nbformat": 4,
 "nbformat_minor": 2
}

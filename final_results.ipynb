{
 "cells": [
  {
   "cell_type": "code",
   "execution_count": 1,
   "metadata": {},
   "outputs": [],
   "source": [
    "import pandas as pd\n",
    "import numpy as np\n",
    "\n",
    "from sklearn.preprocessing import LabelEncoder, MinMaxScaler\n",
    "from sklearn.decomposition import PCA\n",
    "from sklearn.compose import ColumnTransformer\n",
    "from imblearn.pipeline import Pipeline as ImbPipeline\n",
    "from imblearn.under_sampling import RandomUnderSampler\n",
    "\n",
    "from sklearn.pipeline import Pipeline\n",
    "from sklearn.svm import SVC\n",
    "from sklearn.linear_model import LogisticRegression as LRC\n",
    "\n",
    "import sweetviz as sv\n",
    "\n",
    "from utils.evaluation import *\n",
    "from utils.dataprep import *"
   ]
  },
  {
   "cell_type": "code",
   "execution_count": 2,
   "metadata": {},
   "outputs": [
    {
     "data": {
      "application/vnd.jupyter.widget-view+json": {
       "model_id": "acae0957133e4ec79519158ea1538135",
       "version_major": 2,
       "version_minor": 0
      },
      "text/plain": [
       "                                             |          | [  0%]   00:00 -> (? left)"
      ]
     },
     "metadata": {},
     "output_type": "display_data"
    },
    {
     "name": "stdout",
     "output_type": "stream",
     "text": [
      "Report reports/report.html was generated.\n"
     ]
    }
   ],
   "source": [
    "df = pd.read_csv(\"data/use_case_employee-attrition.csv\")\n",
    "df = df.drop([\"EmployeeCount\", \"Over18\", \"StandardHours\", \"EmployeeNumber\"], axis=1)\n",
    "\n",
    "nominals = [\"BusinessTravel\", \"Department\", \"EducationField\", \"Gender\", \"JobRole\", \"MaritalStatus\", \"OverTime\"]\n",
    "numericals = [\"Age\", \"DailyRate\", \"DistanceFromHome\", \"Education\", \"EnvironmentSatisfaction\", \"HourlyRate\", \"JobInvolvement\", \"JobLevel\", \"JobSatisfaction\", \"MonthlyIncome\", \"MonthlyRate\", \"NumCompaniesWorked\",\n",
    "              \"PercentSalaryHike\", \"PerformanceRating\", \"RelationshipSatisfaction\", \"StockOptionLevel\", \"TotalWorkingYears\", \"TrainingTimesLastYear\", \"WorkLifeBalance\", \"YearsAtCompany\", \"YearsInCurrentRole\", \n",
    "              \"YearsSinceLastPromotion\", \"YearsWithCurrManager\"]\n",
    "\n",
    "df_t = onehot_columns(df, nominals)\n",
    "df_n = merge_onehotted(df, df_t, nominals)\n",
    "\n",
    "X = df_n.drop(\"Attrition\", axis=1)\n",
    "y = df_n[\"Attrition\"]\n",
    "y = LabelEncoder().fit_transform(y)\n",
    "\n",
    "report = sv.analyze(df)\n",
    "report.show_html(\"reports/report.html\", open_browser=False)"
   ]
  },
  {
   "cell_type": "code",
   "execution_count": 3,
   "metadata": {},
   "outputs": [
    {
     "name": "stdout",
     "output_type": "stream",
     "text": [
      "XIII:\n",
      "\tAccuracy score: 74.01360544217687 +/- 2.467803693498918\n",
      "\tRecall score: 74.69202898550724 +/- 4.907414425245215\n",
      "\tPrecision score: 35.65803387055716 +/- 2.7777390264058766\n",
      "\tF1 score: 48.161587415276394 +/- 2.72361708330449\n",
      "IX:\n",
      "\tAccuracy score: 29.455782312925166 +/- 5.425569899752493\n",
      "\tRecall score: 92.8985507246377 +/- 6.46046090735605\n",
      "\tPrecision score: 17.790634675350717 +/- 0.815330514503049\n",
      "\tF1 score: 29.823768383381594 +/- 1.0830790734853406\n",
      "VIII:\n",
      "\tAccuracy score: 86.87074829931973 +/- 1.0112971936951376\n",
      "\tRecall score: 21.15942028985507 +/- 7.267089961830495\n",
      "\tPrecision score: 91.71428571428572 +/- 8.518886580500327\n",
      "\tF1 score: 33.52096360772668 +/- 9.325217040701375\n",
      "XIV:\n",
      "\tAccuracy score: 88.02721088435375 +/- 1.9995834634964718\n",
      "\tRecall score: 42.22826086956522 +/- 10.844309426787827\n",
      "\tPrecision score: 73.0021645021645 +/- 12.056772489546304\n",
      "\tF1 score: 52.61612975857162 +/- 9.69508578429857\n",
      "XV:\n",
      "\tAccuracy score: 88.50340136054422 +/- 1.8367346938775533\n",
      "\tRecall score: 38.858695652173914 +/- 9.242770666787301\n",
      "\tPrecision score: 79.91816516816516 +/- 11.228336441424013\n",
      "\tF1 score: 51.6780697909106 +/- 9.382382472009791\n"
     ]
    },
    {
     "data": {
      "text/plain": [
       "({'accuracy': 88.50340136054422,\n",
       "  'recall': 38.858695652173914,\n",
       "  'precision': 79.91816516816516,\n",
       "  'f1': 51.6780697909106},\n",
       " {'accuracy': 1.8367346938775533,\n",
       "  'recall': 9.242770666787301,\n",
       "  'precision': 11.228336441424013,\n",
       "  'f1': 9.382382472009791})"
      ]
     },
     "execution_count": 3,
     "metadata": {},
     "output_type": "execute_result"
    }
   ],
   "source": [
    "scaler = MinMaxScaler()\n",
    "\n",
    "pca = PCA(n_components=15)\n",
    "resampler = RandomUnderSampler(random_state=42)\n",
    "\n",
    "model_xiii = LRC(random_state=42)\n",
    "model_ix = SVC(random_state=42, kernel=\"poly\")\n",
    "\n",
    "model_viii = SVC(random_state=42, C=0.9)\n",
    "model_xiv = LRC(random_state=42, penalty=None)\n",
    "model_xv = LRC(random_state=42, penalty=\"elasticnet\", solver=\"saga\", l1_ratio=0.5)\n",
    "\n",
    "column_transformer = ColumnTransformer(\n",
    "    transformers=[\n",
    "        (\"pca\", pca, df_t.columns),\n",
    "        (\"passthrough\", \"passthrough\", numericals)\n",
    "    ])\n",
    "\n",
    "pipeline_xiii = ImbPipeline(steps=[(\"undersample\", resampler), (\"scaler\", scaler), (\"pca\", pca), (\"classifier\", model_xiii)])\n",
    "pipeline_ix = ImbPipeline(steps=[(\"undersample\", resampler), (\"pca\", pca), (\"classifier\", model_ix)])\n",
    "\n",
    "pipeline_viii = Pipeline(steps=[(\"column_transformer\", column_transformer), (\"scaler\", scaler), (\"classifier\", model_viii)])\n",
    "pipeline_xiv = Pipeline(steps=[(\"column_transformer\", column_transformer), (\"scaler\", scaler), (\"classifier\", model_xiv)])\n",
    "pipeline_xv = Pipeline(steps=[(\"column_transformer\", column_transformer), (\"scaler\", scaler), (\"classifier\", model_xv)])\n",
    "\n",
    "print(\"XIII:\")\n",
    "compute_acc_rec_prec_f1_with_cv(pipeline_xiii, X, y, cv_n=10)\n",
    "print(\"IX:\")\n",
    "compute_acc_rec_prec_f1_with_cv(pipeline_ix, X, y, cv_n=10)\n",
    "print(\"VIII:\")\n",
    "compute_acc_rec_prec_f1_with_cv(pipeline_viii, X, y, cv_n=10)\n",
    "print(\"XIV:\")\n",
    "compute_acc_rec_prec_f1_with_cv(pipeline_xiv, X, y, cv_n=10)\n",
    "print(\"XV:\")\n",
    "compute_acc_rec_prec_f1_with_cv(pipeline_xv, X, y, cv_n=10)"
   ]
  }
 ],
 "metadata": {
  "kernelspec": {
   "display_name": "sq",
   "language": "python",
   "name": "python3"
  },
  "language_info": {
   "codemirror_mode": {
    "name": "ipython",
    "version": 3
   },
   "file_extension": ".py",
   "mimetype": "text/x-python",
   "name": "python",
   "nbconvert_exporter": "python",
   "pygments_lexer": "ipython3",
   "version": "3.11.9"
  }
 },
 "nbformat": 4,
 "nbformat_minor": 2
}
